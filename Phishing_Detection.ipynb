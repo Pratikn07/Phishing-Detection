{
 "cells": [
  {
   "cell_type": "markdown",
   "metadata": {},
   "source": [
    "# Introduction To Phishing                                            \n"
   ]
  },
  {
   "cell_type": "code",
   "execution_count": 450,
   "metadata": {},
   "outputs": [],
   "source": [
    "##Yumeng Liu, Parth Soni, Pratik Nandoskar, Rohit Pathak"
   ]
  },
  {
   "cell_type": "markdown",
   "metadata": {},
   "source": [
    "Phishing is “a form of social engineering, characterized by attempts to fraudulently acquire sensitive information, \n",
    "such as passwords and credit card details, by masquerading as a trustworthy person or business in an apparently official \n",
    "electronic communication, such as an email or an instant message. The term phishing arises from the use of increasingly \n",
    "sophisticated lures to fish for user financial information and passwords.\n"
   ]
  },
  {
   "cell_type": "markdown",
   "metadata": {},
   "source": [
    "# how to prevent phishing"
   ]
  },
  {
   "cell_type": "markdown",
   "metadata": {},
   "source": [
    "a) User Education\n",
    "b) Using Authentication\n",
    "c) Network Level Protection"
   ]
  },
  {
   "cell_type": "markdown",
   "metadata": {},
   "source": [
    "# Feature Extraction\n",
    "\n"
   ]
  },
  {
   "cell_type": "markdown",
   "metadata": {},
   "source": [
    "a)\tLexical Features:\n",
    "Lexical features are based on the observation that the URLs of many illegal sites \n",
    "look different when compared with legitimate sites. \n",
    "Analyzing lexical features enables us to capture the property for classification purposes. \n",
    "We first distinguish the two parts of a URL: the host name and the path, \n",
    "from which we extract special characters such as  (‘/’, ‘?’, ‘.’, ‘=’, ‘-’ and ‘ ’).\n",
    "\n",
    "b)\tSite popularity Features:\n",
    "It has been noted that malicious sites are less popular than the benign ones. For this reason, \n",
    "site popularity can be considered as another feature. For e.g. we can get traffic rank from Alexa.com\n",
    "\n",
    "c)\tHost-based features:\n",
    "This feature is based on the observation that malicious sites are always registered in less reputable hosting centers.\n"
   ]
  },
  {
   "cell_type": "code",
   "execution_count": null,
   "metadata": {},
   "outputs": [],
   "source": [
    "#adding neccessary imports"
   ]
  },
  {
   "cell_type": "code",
   "execution_count": null,
   "metadata": {},
   "outputs": [],
   "source": [
    "from urllib.parse import urlparse\n",
    "import re\n",
    "import urllib.request  as urllib2\n",
    "import urllib\n",
    "from xml.dom import minidom\n",
    "import csv\n",
    "import pygeoip\n",
    "import requests"
   ]
  },
  {
   "cell_type": "code",
   "execution_count": 3,
   "metadata": {},
   "outputs": [],
   "source": [
    "opener = urllib2.build_opener()\n",
    "opener.addheaders = [('User-agent', 'Mozilla/5.0')]\n",
    "nf=-1"
   ]
  },
  {
   "cell_type": "code",
   "execution_count": 4,
   "metadata": {},
   "outputs": [],
   "source": [
    "#generating tokens from url\n",
    "def Tokenise(url):\n",
    "\n",
    "        if url=='':\n",
    "            return [0,0,0]\n",
    "        token_word=re.split('\\W+',url)\n",
    "        #print token_word\n",
    "        no_ele=sum_len=largest=0\n",
    "        for ele in token_word:\n",
    "                l=len(ele)\n",
    "                sum_len+=l\n",
    "                if l>0:                     \n",
    "                        no_ele+=1\n",
    "                if largest<l:\n",
    "                        largest=l\n",
    "        try:\n",
    "            return [float(sum_len)/no_ele,no_ele,largest]\n",
    "        except:\n",
    "            return [0,no_ele,largest]\n"
   ]
  },
  {
   "cell_type": "code",
   "execution_count": 5,
   "metadata": {},
   "outputs": [],
   "source": [
    "def find_ele_with_attribute(dom,ele,attribute):\n",
    "    for subelement in dom.getElementsByTagName(ele):\n",
    "        if subelement.hasAttribute(attribute):\n",
    "            return subelement.attributes[attribute].value\n",
    "    return nf"
   ]
  },
  {
   "cell_type": "code",
   "execution_count": 6,
   "metadata": {},
   "outputs": [],
   "source": [
    "#check site popularity on Alexa\n",
    "def sitepopularity(host):\n",
    "\n",
    "        xmlpath='http://data.alexa.com/data?cli=10&dat=snbamz&url='+host\n",
    "        #print xmlpath\n",
    "        try:\n",
    "            xml= urllib2.urlopen(xmlpath)\n",
    "            dom =minidom.parse(xml)\n",
    "            rank_host=find_ele_with_attribute(dom,'REACH','RANK')\n",
    "            #country=find_ele_with_attribute(dom,'REACH','RANK')\n",
    "            rank_country=find_ele_with_attribute(dom,'COUNTRY','RANK')\n",
    "            return [rank_host,rank_country]\n",
    "\n",
    "        except:\n",
    "            return [nf,nf]"
   ]
  },
  {
   "cell_type": "code",
   "execution_count": 7,
   "metadata": {},
   "outputs": [],
   "source": [
    "#check if there is senstive words in URL\n",
    "def Security_sensitive(tokens_words):\n",
    "\n",
    "    sec_sen_words=['confirm', 'account', 'banking', 'secure', 'ebayisapi', 'webscr', 'login', 'signin']\n",
    "    cnt=0\n",
    "    for ele in sec_sen_words:\n",
    "        if(ele in tokens_words):\n",
    "            cnt+=1;\n",
    "\n",
    "    return cnt"
   ]
  },
  {
   "cell_type": "code",
   "execution_count": 8,
   "metadata": {},
   "outputs": [],
   "source": [
    "#check if there is hidden exe in the URL\n",
    "def exe_in_url(url):\n",
    "    if url.find('.exe')!=-1:\n",
    "        return 1\n",
    "    return 0"
   ]
  },
  {
   "cell_type": "code",
   "execution_count": 9,
   "metadata": {},
   "outputs": [],
   "source": [
    "#check if there is IP address in the URL\n",
    "def Check_IPaddress(tokens_words):\n",
    "\n",
    "    cnt=0;\n",
    "    for ele in tokens_words:\n",
    "        if str(ele).isnumeric():\n",
    "            cnt+=1\n",
    "        else:\n",
    "            if cnt>=4 :\n",
    "                return 1\n",
    "            else:\n",
    "                cnt=0;\n",
    "    if cnt>=4:\n",
    "        return 1\n",
    "    return 0"
   ]
  },
  {
   "cell_type": "code",
   "execution_count": 10,
   "metadata": {},
   "outputs": [],
   "source": [
    "#check domain name of the URL\n",
    "def getASN(host):\n",
    "    try:\n",
    "        g = pygeoip.GeoIP('GeoIPASNum.dat')\n",
    "        asn=int(g.org_by_name(host).split()[0][2:])\n",
    "        return asn\n",
    "    except:\n",
    "        return  nf"
   ]
  },
  {
   "cell_type": "code",
   "execution_count": 11,
   "metadata": {},
   "outputs": [],
   "source": [
    "#extract site features and compare it with the public dataset\n",
    "def web_content_features(url):\n",
    "    wfeatures={}\n",
    "    total_cnt=0\n",
    "    try:        \n",
    "        source_code = str(opener.open(url))\n",
    "        #print source_code[:500]\n",
    "\n",
    "        wfeatures['src_html_cnt']=source_code.count('<html')\n",
    "        wfeatures['src_hlink_cnt']=source_code.count('<a href=')\n",
    "        wfeatures['src_iframe_cnt']=source_code.count('<iframe')\n",
    "        #suspicioussrc_ javascript functions count\n",
    "\n",
    "        wfeatures['src_eval_cnt']=source_code.count('eval(')\n",
    "        wfeatures['src_escape_cnt']=source_code.count('escape(')\n",
    "        wfeatures['src_link_cnt']=source_code.count('link(')\n",
    "        wfeatures['src_underescape_cnt']=source_code.count('underescape(')\n",
    "        wfeatures['src_exec_cnt']=source_code.count('exec(')\n",
    "        wfeatures['src_search_cnt']=source_code.count('search(')\n",
    "        \n",
    "        for key in wfeatures:\n",
    "            if(key!='src_html_cnt' and key!='src_hlink_cnt' and key!='src_iframe_cnt'):\n",
    "                total_cnt+=wfeatures[key]\n",
    "        wfeatures['src_total_jfun_cnt']=total_cnt\n",
    "    \n",
    "    except Exception:\n",
    "        print(\"Error\")\n",
    "    \n",
    "    return wfeatures\n",
    "\n",
    "def safebrowsing(url):\n",
    "    api_key = \"ABQIAAAA8C6Tfr7tocAe04vXo5uYqRTEYoRzLFR0-nQ3fRl5qJUqcubbrw\"\n",
    "    name = \"URL_check\"\n",
    "    ver = \"1.0\"\n",
    "\n",
    "    req = {}\n",
    "    req[\"client\"] = name\n",
    "    req[\"apikey\"] = api_key\n",
    "    req[\"appver\"] = ver\n",
    "    req[\"pver\"] = \"3.0\"\n",
    "    req[\"url\"] = url #change to check type of url\n",
    "\n",
    "    try:\n",
    "        params = urllib.urlencode(req)\n",
    "        req_url = \"https://sb-ssl.google.com/safebrowsing/api/lookup?\"+params\n",
    "        res = urllib2.urlopen(req_url)\n",
    "        # print res.code\n",
    "        # print res.read()\n",
    "        if res.code==204:\n",
    "            # print \"safe\"\n",
    "            return 0\n",
    "        elif res.code==200:\n",
    "            # print \"The queried URL is either phishing, malware or both, see the response body for the specific type.\"\n",
    "            return 1\n",
    "        elif res.code==204:\n",
    "            print(\"The requested URL is legitimate, no response body returned.\")\n",
    "        elif res.code==400:\n",
    "            print(\"Bad Request The HTTP request was not correctly formed.\")\n",
    "        elif res.code==401:\n",
    "            print (\"Not Authorized The apikey is not authorized\")\n",
    "        else:\n",
    "            print (\"Service Unavailable The server cannot handle the request. Besides the normal server failures, it could also indicate that the client has been throttled by sending too many requests\")\n",
    "    except:\n",
    "        return -1\n",
    "\n",
    "\n",
    "\n"
   ]
  },
  {
   "cell_type": "code",
   "execution_count": 32,
   "metadata": {},
   "outputs": [],
   "source": [
    "#group all the features in one function\n",
    "def feature_extract(url_input):\n",
    "\n",
    "        Feature={}\n",
    "        tokens_words=re.split('\\W+',url_input)       #Extract bag of words stings delimited by (.,/,?,,=,-,_)\n",
    "        #print tokens_words,len(tokens_words)\n",
    "\n",
    "        #token_delimit1=re.split('[./?=-_]',url_input)\n",
    "        #print token_delimit1,len(token_delimit1)\n",
    "\n",
    "        obj=urlparse(url_input)\n",
    "        host=obj.netloc\n",
    "        path=obj.path\n",
    "\n",
    "        Feature['URL']=url_input\n",
    "\n",
    "        Feature['rank_host'],Feature['rank_country'] =sitepopularity(host)\n",
    "\n",
    "        Feature['host']=obj.netloc\n",
    "        Feature['path']=obj.path\n",
    "\n",
    "        Feature['Length_of_url']=len(url_input)\n",
    "        Feature['Length_of_host']=len(host)\n",
    "        Feature['No_of_dots']=url_input.count('.')\n",
    "\n",
    "        Feature['avg_token_length'],Feature['token_count'],Feature['largest_token'] = Tokenise(url_input)\n",
    "        Feature['avg_domain_token_length'],Feature['domain_token_count'],Feature['largest_domain'] = Tokenise(host)\n",
    "        Feature['avg_path_token'],Feature['path_token_count'],Feature['largest_path'] = Tokenise(path)\n",
    "\n",
    "        Feature['sec_sen_word_cnt'] = Security_sensitive(tokens_words)\n",
    "        Feature['IPaddress_presence'] = Check_IPaddress(tokens_words)\n",
    "        \n",
    "        # print host\n",
    "        # print getASN(host)\n",
    "        # Feature['exe_in_url']=exe_in_url(url_input)\n",
    "        Feature['ASNno']=getASN(host)\n",
    "        Feature['safebrowsing']=safebrowsing(url_input)\n",
    "        \"\"\"wfeatures=web_content_features(url_input)\n",
    "        \n",
    "        for key in wfeatures:\n",
    "            Feature[key]=wfeatures[key]\n",
    "        \"\"\"\n",
    "        #debug\n",
    "        # for key in Feature:\n",
    "        #     print key +':'+str(Feature[key])\n",
    "        return Feature"
   ]
  },
  {
   "cell_type": "code",
   "execution_count": 112,
   "metadata": {},
   "outputs": [],
   "source": []
  },
  {
   "cell_type": "code",
   "execution_count": 113,
   "metadata": {},
   "outputs": [],
   "source": [
    "#Begin training of the data "
   ]
  },
  {
   "cell_type": "code",
   "execution_count": 114,
   "metadata": {},
   "outputs": [],
   "source": [
    "#add necessary Imports\n",
    "import pandas\n",
    "from sklearn import preprocessing\n",
    "from sklearn.ensemble import RandomForestClassifier\n",
    "import numpy\n",
    "from sklearn import svm\n",
    "from sklearn import cross_validation as cv\n",
    "import matplotlib.pylab as plt\n",
    "import warnings"
   ]
  },
  {
   "cell_type": "code",
   "execution_count": 115,
   "metadata": {},
   "outputs": [],
   "source": [
    "def return_nonstring_col(data_cols):\n",
    "\tcols_to_keep=[]\n",
    "\ttrain_cols=[]\n",
    "\tfor col in data_cols:\n",
    "\t\tif col!='URL' and col!='host' and col!='path':\n",
    "\t\t\tcols_to_keep.append(col)\n",
    "\t\t\tif col!='malicious' and col!='result':\n",
    "\t\t\t\ttrain_cols.append(col)\n",
    "\treturn [cols_to_keep,train_cols]"
   ]
  },
  {
   "cell_type": "code",
   "execution_count": 388,
   "metadata": {},
   "outputs": [],
   "source": [
    "# this is a svm classifier\n",
    "def svm_classifier(train, query, train_cols):\n",
    "    clf = svm.SVC()\n",
    "\n",
    "    train[train_cols] = preprocessing.scale(train[train_cols])\n",
    "    query[train_cols] = preprocessing.scale(query[train_cols])\n",
    "\n",
    "    print(clf.fit(train[train_cols], train['malicious']))\n",
    "    scores = cv.cross_val_score(clf, train[train_cols], train['malicious'], cv=30)\n",
    "    \n",
    "\n",
    "    query['result'] = clf.predict(query[train_cols])\n",
    "    \n",
    "        \n",
    "\n",
    "    print(query[['URL', 'result']])\n"
   ]
  },
  {
   "cell_type": "code",
   "execution_count": null,
   "metadata": {},
   "outputs": [],
   "source": []
  },
  {
   "cell_type": "code",
   "execution_count": 389,
   "metadata": {},
   "outputs": [],
   "source": [
    "#call the train function\n",
    "def train(db,test_db):\n",
    "\t\n",
    "\tquery_csv = pandas.read_csv(test_db)\n",
    "\tcols_to_keep,train_cols=return_nonstring_col(query_csv.columns)\n",
    "\t#query=query_csv[cols_to_keep]\n",
    "\n",
    "\ttrain_csv = pandas.read_csv(db)\n",
    "\tcols_to_keep,train_cols=return_nonstring_col(train_csv.columns)\n",
    "\ttrain=train_csv[cols_to_keep]\n",
    "\n",
    "\tsvm_classifier(train_csv,query_csv,train_cols)\n"
   ]
  },
  {
   "cell_type": "code",
   "execution_count": 390,
   "metadata": {},
   "outputs": [],
   "source": [
    "#implementing Feature extraction and training in main file\n",
    "def process_URL_list(file_dest,output_dest):\n",
    "    feature=[]\n",
    "    with open(file_dest) as file:\n",
    "        for line in file:\n",
    "            url=line.split(',')[0].strip()\n",
    "            malicious_bool=line.split(',')[1].strip()\n",
    "            if url!='':\n",
    "                print('working on: '+url)           #showoff\n",
    "                ret_dict=urlfeature.feature_extract(url)\n",
    "                ret_dict['malicious']=malicious_bool\n",
    "                feature.append([url,ret_dict]);\n",
    "    resultwriter(feature,output_dest)"
   ]
  },
  {
   "cell_type": "code",
   "execution_count": 391,
   "metadata": {},
   "outputs": [],
   "source": [
    "def process_test_list(file_dest,output_dest):\n",
    "    feature=[]\n",
    "    with open(file_dest) as file:\n",
    "        for line in file:\n",
    "            url=line.strip()\n",
    "            if url!='':\n",
    "                print('working on: '+url)           #showoff\n",
    "                ret_dict=urlfeature.feature_extract(url)\n",
    "                feature.append([url,ret_dict]);\n",
    "    resultwriter(feature,output_dest)"
   ]
  },
  {
   "cell_type": "code",
   "execution_count": 392,
   "metadata": {},
   "outputs": [],
   "source": [
    "def resultwriter(feature,output_dest):\n",
    "    flag=True\n",
    "    with open(output_dest,'w') as f:\n",
    "        for item in feature:\n",
    "            w = csv.DictWriter(f, item[1].keys())\n",
    "            if flag:\n",
    "                w.writeheader()\n",
    "                flag=False\n",
    "            w.writerow(item[1])\n",
    "def process_test_url(url,output_dest):\n",
    "    feature=[]\n",
    "    url=url.strip()\n",
    "    if url!='':\n",
    "        print('working on: '+url) \n",
    "        ret_dict=feature_extract(url)\n",
    "        feature.append([url,ret_dict]);\n",
    "    resultwriter(feature,output_dest)"
   ]
  },
  {
   "cell_type": "code",
   "execution_count": 399,
   "metadata": {},
   "outputs": [],
   "source": [
    "def gui_caller(db,test_db):\n",
    "\t\n",
    "\tquery_csv = pandas.read_csv(test_db)\n",
    "\tcols_to_keep,train_cols=return_nonstring_col(query_csv.columns)\n",
    "\tquery=query_csv[cols_to_keep]\n",
    "\n",
    "\ttrain_csv = pandas.read_csv(db)\n",
    "\tcols_to_keep,train_cols=return_nonstring_col(train_csv.columns)\n",
    "\ttrain=train_csv[cols_to_keep]\n",
    "\n",
    "\treturn svm_classifier(train_csv,query_csv,train_cols)\t"
   ]
  },
  {
   "cell_type": "code",
   "execution_count": 409,
   "metadata": {},
   "outputs": [],
   "source": [
    "def find_word(text, search):\n",
    "   result = re.findall('\\\\b'+search+'\\\\b', text, flags=re.IGNORECASE)\n",
    "   if len(result)>0:\n",
    "      return True\n",
    "   else:\n",
    "      return False"
   ]
  },
  {
   "cell_type": "code",
   "execution_count": 426,
   "metadata": {},
   "outputs": [],
   "source": [
    "def main():\n",
    "        process_URL_list('URL.txt','url_features.csv')\n",
    "        process_test_list(\"./query.txt\",'./query_features.csv')\n",
    "        tr.train('url_features.csv','url_features.csv')         #arguments:(input_training feature,test/query traning features)\n",
    "        tr.train('./url_features.csv','./query_features.csv')"
   ]
  },
  {
   "cell_type": "code",
   "execution_count": 441,
   "metadata": {},
   "outputs": [
    {
     "name": "stdout",
     "output_type": "stream",
     "text": [
      "working on: http://www.amazon.com\n"
     ]
    }
   ],
   "source": [
    "process_test_url('http://www.amazon.com','./test_features.csv')"
   ]
  },
  {
   "cell_type": "code",
   "execution_count": 442,
   "metadata": {},
   "outputs": [
    {
     "name": "stdout",
     "output_type": "stream",
     "text": [
      "SVC(C=1.0, cache_size=200, class_weight=None, coef0=0.0,\n",
      "  decision_function_shape='ovr', degree=3, gamma='auto', kernel='rbf',\n",
      "  max_iter=-1, probability=False, random_state=None, shrinking=True,\n",
      "  tol=0.001, verbose=False)\n",
      "                     URL  result\n",
      "0  http://www.amazon.com       2\n"
     ]
    }
   ],
   "source": [
    "return_ans = gui_caller('./url_features.csv','./test_features.csv')"
   ]
  },
  {
   "cell_type": "code",
   "execution_count": 446,
   "metadata": {},
   "outputs": [
    {
     "data": {
      "image/png": "[encoded data removed]",
      "text/plain": [
       "<IPython.core.display.Image object>"
      ]
     },
     "execution_count": 446,
     "metadata": {},
     "output_type": "execute_result"
    }
   ],
   "source": [
    "from IPython.display import Image\n",
    "Image(\"./Image1.png\")"
   ]
  },
  {
   "cell_type": "code",
   "execution_count": 447,
   "metadata": {},
   "outputs": [
    {
     "data": {
      "image/png": "[encoded data removed]",
      "text/plain": [
       "<IPython.core.display.Image object>"
      ]
     },
     "execution_count": 447,
     "metadata": {},
     "output_type": "execute_result"
    }
   ],
   "source": [
    "Image(\"./Image2.png\")"
   ]
  },
  {
   "cell_type": "code",
   "execution_count": null,
   "metadata": {},
   "outputs": [],
   "source": [
    "#references\n",
    "https://en.wikipedia.org/wiki/Phishing"
   ]
  }
 ],
 "metadata": {
  "kernelspec": {
   "display_name": "Python 3",
   "language": "python",
   "name": "python3"
  },
  "language_info": {
   "codemirror_mode": {
    "name": "ipython",
    "version": 3
   },
   "file_extension": ".py",
   "mimetype": "text/x-python",
   "name": "python",
   "nbconvert_exporter": "python",
   "pygments_lexer": "ipython3",
   "version": "3.6.3"
  }
 },
 "nbformat": 4,
 "nbformat_minor": 2
}
